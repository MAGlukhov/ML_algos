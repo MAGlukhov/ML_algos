{
 "cells": [
  {
   "cell_type": "markdown",
   "id": "66e81210-511b-4889-bd60-e788b48f07f6",
   "metadata": {},
   "source": [
    "# Создание одномерного массива"
   ]
  },
  {
   "cell_type": "code",
   "execution_count": 1,
   "id": "86a97302-ae43-45f8-b3c5-6f65392ca3bb",
   "metadata": {},
   "outputs": [],
   "source": [
    "import numpy as np"
   ]
  },
  {
   "cell_type": "code",
   "execution_count": 13,
   "id": "d7f32028-032d-490e-8a63-26f6a3a1f6b1",
   "metadata": {},
   "outputs": [
    {
     "name": "stdout",
     "output_type": "stream",
     "text": [
      "[1 2 3 4]\n",
      "int64\n"
     ]
    }
   ],
   "source": [
    "array_1d = np.array([1,2,3,4])\n",
    "print(array_1d)\n",
    "print(array_1d.dtype)"
   ]
  },
  {
   "cell_type": "markdown",
   "id": "b201cfbf-1aa9-4885-9645-980b9ba625ea",
   "metadata": {},
   "source": [
    "# Задание типа данных массива"
   ]
  },
  {
   "cell_type": "code",
   "execution_count": 11,
   "id": "f4fb7f65-4793-44a3-9b25-9013557b797a",
   "metadata": {},
   "outputs": [
    {
     "name": "stdout",
     "output_type": "stream",
     "text": [
      "int64\n"
     ]
    }
   ],
   "source": [
    "array_data_type = np.array([], dtype=np.int64)\n",
    "print(array_data_type.dtype)"
   ]
  },
  {
   "cell_type": "markdown",
   "id": "3e81410a-ff4c-41b3-afce-2423d12d4829",
   "metadata": {},
   "source": [
    "# Массив с разными типами данных"
   ]
  },
  {
   "cell_type": "code",
   "execution_count": 12,
   "id": "b8b09433-8652-490b-b0e9-541eb94a6af8",
   "metadata": {},
   "outputs": [
    {
     "name": "stdout",
     "output_type": "stream",
     "text": [
      "['1' '2' '3' '4' '5']\n",
      "<U21\n"
     ]
    }
   ],
   "source": [
    "array_dif_data = np.array([1,'2',3,'4',5])\n",
    "print(array_dif_data)\n",
    "print(array_dif_data.dtype)"
   ]
  },
  {
   "cell_type": "markdown",
   "id": "32e9040c-2ea3-4ca1-ba3c-20f5344541cd",
   "metadata": {},
   "source": [
    "# Создание двумерного массива"
   ]
  },
  {
   "cell_type": "code",
   "execution_count": 20,
   "id": "965c868a-0cd9-4aaf-ade0-8d2d8ed27d27",
   "metadata": {},
   "outputs": [
    {
     "name": "stdout",
     "output_type": "stream",
     "text": [
      "Двумерный массив:\n",
      "\n",
      "[[1 2 3]\n",
      " [4 5 6]]\n",
      "Форма массива: (2, 3)\n"
     ]
    }
   ],
   "source": [
    "matrix = np.array([[1,2,3],[4,5,6]])\n",
    "print('Двумерный массив:\\n')\n",
    "print(matrix)\n",
    "print('Форма массива:', matrix.shape)"
   ]
  },
  {
   "cell_type": "markdown",
   "id": "08326e93-b25b-44d3-95ff-be8034ad0418",
   "metadata": {},
   "source": [
    "# Создание трёхмерного массива"
   ]
  },
  {
   "cell_type": "code",
   "execution_count": 23,
   "id": "7bd4f7bf-e66d-4dc5-96f6-bd01c6ef895e",
   "metadata": {},
   "outputs": [
    {
     "name": "stdout",
     "output_type": "stream",
     "text": [
      "[[[ 1  2  3]\n",
      "  [ 4  5  6]]\n",
      "\n",
      " [[ 6  7  8]\n",
      "  [ 9 10 11]]]\n",
      "(2, 2, 3)\n"
     ]
    }
   ],
   "source": [
    "tensor = np.array([[[1,2,3],[4,5,6]],[[6,7,8],[9,10,11]]])\n",
    "print(tensor)\n",
    "print(tensor.shape)"
   ]
  },
  {
   "cell_type": "markdown",
   "id": "97ae3991-a20d-437d-a52d-ded4c7f0a636",
   "metadata": {},
   "source": [
    "# Функция arrange"
   ]
  },
  {
   "cell_type": "code",
   "execution_count": 33,
   "id": "1c2bf75f-5d13-40d6-8440-e0733a8d20ea",
   "metadata": {},
   "outputs": [
    {
     "name": "stdout",
     "output_type": "stream",
     "text": [
      "Массив с шагом 1:  [0 1 2 3 4 5 6 7 8 9]\n",
      "int64 \n",
      "\n",
      "Массив с шагом 2:  [0 2 4 6 8]\n",
      "int64 \n",
      "\n",
      "Массив с шагом 3:  [ 0  3  6  9 12 15 18]\n",
      "int64 \n",
      "\n"
     ]
    }
   ],
   "source": [
    "array1 = np.arange(0,10,1)\n",
    "print('Массив с шагом 1: ', array1)\n",
    "print(array1.dtype, '\\n')\n",
    "\n",
    "array2 = np.arange(0,10,2)\n",
    "print('Массив с шагом 2: ', array2)\n",
    "print(array2.dtype, '\\n')\n",
    "\n",
    "array3 = np.arange(0,20,3)\n",
    "print('Массив с шагом 3: ', array3)\n",
    "print(array3.dtype, '\\n')"
   ]
  },
  {
   "cell_type": "markdown",
   "id": "e1592947-a405-41de-8293-7aacbcb93d43",
   "metadata": {},
   "source": [
    "# Функция linspace"
   ]
  },
  {
   "cell_type": "code",
   "execution_count": 37,
   "id": "a88c8481-b233-4286-982f-cacf386deb66",
   "metadata": {},
   "outputs": [
    {
     "name": "stdout",
     "output_type": "stream",
     "text": [
      "[0.   0.25 0.5  0.75 1.  ] \n",
      "\n",
      "float64 \n",
      "\n",
      "[0.         0.11111111 0.22222222 0.33333333 0.44444444 0.55555556\n",
      " 0.66666667 0.77777778 0.88888889 1.        ] \n",
      "\n",
      "float64 \n",
      "\n"
     ]
    }
   ],
   "source": [
    "array4 = np.linspace(0,1,5) # 5 - кол-во значений\n",
    "print(array4, '\\n')\n",
    "print(array4.dtype, '\\n')\n",
    "\n",
    "array5 = np.linspace(0,1,10)\n",
    "print(array5, '\\n')\n",
    "print(array5.dtype, '\\n')"
   ]
  },
  {
   "cell_type": "markdown",
   "id": "e836f774-8970-4069-8dfd-bd8c96be9e55",
   "metadata": {},
   "source": [
    "# Обращение к элементу"
   ]
  },
  {
   "cell_type": "code",
   "execution_count": 46,
   "id": "95be0a85-bdd5-4913-a4f6-954a685b2bee",
   "metadata": {},
   "outputs": [
    {
     "name": "stdout",
     "output_type": "stream",
     "text": [
      "1\n",
      "-7\n",
      "[-7  2  3  4  5  6  7  8  9]\n"
     ]
    }
   ],
   "source": [
    "array_1d = np.array([1,2,3,4,5,6,7,8,9], dtype = np.int64)\n",
    "print(array_1d[0])\n",
    "array_1d[0] = -7\n",
    "print(array_1d[0])\n",
    "print(array_1d)"
   ]
  },
  {
   "cell_type": "markdown",
   "id": "046f79bf-bac6-4d27-b987-1282bae12714",
   "metadata": {},
   "source": [
    "# Индексация одномерных массивов"
   ]
  },
  {
   "cell_type": "code",
   "execution_count": 53,
   "id": "515e93c6-c09f-4702-8c2f-afd0ca37691d",
   "metadata": {},
   "outputs": [
    {
     "name": "stdout",
     "output_type": "stream",
     "text": [
      "[1, 2, 3, 4, 5, 6, 7]\n",
      "[2, 3, 4]\n",
      "[1, 4]\n"
     ]
    }
   ],
   "source": [
    "array_1d = [1,2,3,4,5,6,7]\n",
    "slice_1 = array_1d[1:4]\n",
    "slice_2 = array_1d[0:6:3]\n",
    "print(array_1d)\n",
    "print(slice_1)\n",
    "print(slice_2)"
   ]
  },
  {
   "cell_type": "markdown",
   "id": "6151c20e-17a2-40c6-8da7-f93325b9d8b1",
   "metadata": {},
   "source": [
    "# Индексация многомерных массивов"
   ]
  },
  {
   "cell_type": "code",
   "execution_count": 59,
   "id": "1b589343-1811-406b-80f0-940178e2b12a",
   "metadata": {},
   "outputs": [
    {
     "name": "stdout",
     "output_type": "stream",
     "text": [
      "1\n",
      "5\n",
      "9\n"
     ]
    }
   ],
   "source": [
    "array_2d = np.array([[1,2,3],[4,5,6],[7,8,9]])\n",
    "print(array_2d[0,0]) # строка затем столбик\n",
    "print(array_2d[1,1])\n",
    "print(array_2d[2,2])"
   ]
  },
  {
   "cell_type": "markdown",
   "id": "0752b3bc-5f89-4ca1-9746-554108ebafea",
   "metadata": {},
   "source": [
    "# Арифметические операции над массивами"
   ]
  },
  {
   "cell_type": "code",
   "execution_count": 65,
   "id": "0b8ad342-ce6c-4f83-882d-f6bb4913b2c8",
   "metadata": {},
   "outputs": [
    {
     "name": "stdout",
     "output_type": "stream",
     "text": [
      "[5 7 9]\n",
      "[-3 -3 -3]\n",
      "[ 4 10 18]\n",
      "[0.25 0.4  0.5 ]\n"
     ]
    }
   ],
   "source": [
    "#Выполняются поэлементно\n",
    "a = np.array([1,2,3])\n",
    "b = np.array([4,5,6])\n",
    "c = np.array([7,8,9,10])\n",
    "print(a+b)\n",
    "print(a-b)\n",
    "print(a*b)\n",
    "print(a/b)"
   ]
  },
  {
   "cell_type": "markdown",
   "id": "7a3e28bf-df5c-4758-8423-90fc0f7c4330",
   "metadata": {},
   "source": [
    "# Унарные операции"
   ]
  },
  {
   "cell_type": "code",
   "execution_count": 67,
   "id": "534ca6c7-44f5-46a8-a100-ab3ec37b2d42",
   "metadata": {},
   "outputs": [
    {
     "name": "stdout",
     "output_type": "stream",
     "text": [
      "Сумма: 15\n",
      "Максимум: 5\n",
      "Минимум: 1\n",
      "Среднее: 3.0\n"
     ]
    }
   ],
   "source": [
    "a = np.array([1,2,3,4,5])\n",
    "print('Сумма:', np.sum(a))\n",
    "print('Максимум:', np.max(a))\n",
    "print('Минимум:', np.min(a))\n",
    "print('Среднее:', np.mean(a))"
   ]
  },
  {
   "cell_type": "markdown",
   "id": "6b5e9b27-8248-45fa-8f7f-7128343b72a7",
   "metadata": {},
   "source": [
    "# Параметр axis"
   ]
  },
  {
   "cell_type": "code",
   "execution_count": 74,
   "id": "943e33ad-f4cf-4ea1-a80f-39f7d4d849da",
   "metadata": {},
   "outputs": [
    {
     "name": "stdout",
     "output_type": "stream",
     "text": [
      "[5 7 9]\n",
      "[ 6 15]\n"
     ]
    }
   ],
   "source": [
    "matrix = np.array([[1,2,3],[4,5,6]])\n",
    "\n",
    "sum_by_columns = np.sum(matrix, axis = 0)\n",
    "print(sum_by_columns)\n",
    "\n",
    "sum_by_rows = np.sum(matrix, axis = 1)\n",
    "print(sum_by_rows)"
   ]
  },
  {
   "cell_type": "markdown",
   "id": "446f8f54-0394-4b36-8f11-a7ed2e8831f0",
   "metadata": {},
   "source": [
    "1. Создание массивов:\n",
    "   - создайте одномерный массив `a` из 10 равномерно распределённых чисел в интервале от 0 до 1.\n",
    "   - создайте двумерный массив `b` размером 3x3, содержащий числа от 1 до 9.\n",
    "   - создайте трехмерный массив `c` размером 2x3x4, заполненный числом 1.\n",
    "\n",
    "2. Математические операции:\n",
    "   - сайдите сумму всех элементов в массиве `a`.\n",
    "   - смножьте каждый элемент массива `b` на 2 и сохраните результат в новый массив `b2`.\n",
    "   - сыполните сложение массива `c` с числом 5 и сохраните результат в `c2`.\n",
    "\n",
    "3. Работа со срезами:\n",
    "   - извлеките и выведите на экран все элементы массива `b`, находящиеся в четных строках.\n",
    "   - из массива `c2` извлеките и выведите подмассив, состоящий из первой матрицы (т.е. все строки и столбцы первой \"плоскости\" трехмерного массива).}"
   ]
  },
  {
   "cell_type": "code",
   "execution_count": 96,
   "id": "2b5af6f1-4597-494b-a2b1-d050aeae396a",
   "metadata": {},
   "outputs": [
    {
     "name": "stdout",
     "output_type": "stream",
     "text": [
      "[0.         0.11111111 0.22222222 0.33333333 0.44444444 0.55555556\n",
      " 0.66666667 0.77777778 0.88888889 1.        ]\n",
      " ----------------------------------\n",
      "[[1 2 3]\n",
      " [4 5 6]\n",
      " [7 8 9]]\n",
      " ----------------------------------\n",
      "[[[1 1 1 1]\n",
      "  [1 1 1 1]\n",
      "  [1 1 1 1]]\n",
      "\n",
      " [[1 1 1 1]\n",
      "  [1 1 1 1]\n",
      "  [1 1 1 1]]]\n",
      "(2, 3, 4)\n"
     ]
    }
   ],
   "source": [
    "a = np.linspace(0,1,10)\n",
    "print(a, end ='\\n ----------------------------------\\n')\n",
    "\n",
    "b = np.array([np.arange(1,4),np.arange(4,7),np.arange(7,10)])\n",
    "print(b, end ='\\n ----------------------------------\\n')\n",
    "\n",
    "c = np.array([[[1,1,1,1],[1,1,1,1],[1,1,1,1]],[[1,1,1,1],[1,1,1,1],[1,1,1,1]]])\n",
    "print(c)\n",
    "print(c.shape)"
   ]
  },
  {
   "cell_type": "code",
   "execution_count": 100,
   "id": "d7ba17dd-f28b-49f0-8260-0c560373ab0e",
   "metadata": {},
   "outputs": [
    {
     "name": "stdout",
     "output_type": "stream",
     "text": [
      "5.0\n",
      " ----------------------------------\n",
      "[[ 2  4  6]\n",
      " [ 8 10 12]\n",
      " [14 16 18]]\n",
      " ----------------------------------\n",
      "[[[6 6 6 6]\n",
      "  [6 6 6 6]\n",
      "  [6 6 6 6]]\n",
      "\n",
      " [[6 6 6 6]\n",
      "  [6 6 6 6]\n",
      "  [6 6 6 6]]]\n",
      " ----------------------------------\n"
     ]
    }
   ],
   "source": [
    "print(np.sum(a), end ='\\n ----------------------------------\\n')\n",
    "b2 = b * 2\n",
    "print(b2, end ='\\n ----------------------------------\\n')\n",
    "c2 = c + 5\n",
    "print(c2, end ='\\n ----------------------------------\\n')"
   ]
  },
  {
   "cell_type": "code",
   "execution_count": 116,
   "id": "9faeec4b-8b5d-4f9d-8569-664f0ec24d12",
   "metadata": {},
   "outputs": [
    {
     "name": "stdout",
     "output_type": "stream",
     "text": [
      "[4 5 6]\n",
      " ----------------------------------\n",
      "[[1 1 1 1]\n",
      " [1 1 1 1]\n",
      " [1 1 1 1]]\n"
     ]
    }
   ],
   "source": [
    "split_b = b[1,0:4]\n",
    "print(split_b, end ='\\n ----------------------------------\\n')\n",
    "\n",
    "split_c = c[0,0:4,0:5]\n",
    "print(split_c)"
   ]
  },
  {
   "cell_type": "code",
   "execution_count": null,
   "id": "80db5aae-f1dc-47fc-9111-d43d75270ce5",
   "metadata": {},
   "outputs": [],
   "source": []
  }
 ],
 "metadata": {
  "kernelspec": {
   "display_name": "Python 3 (ipykernel)",
   "language": "python",
   "name": "python3"
  },
  "language_info": {
   "codemirror_mode": {
    "name": "ipython",
    "version": 3
   },
   "file_extension": ".py",
   "mimetype": "text/x-python",
   "name": "python",
   "nbconvert_exporter": "python",
   "pygments_lexer": "ipython3",
   "version": "3.12.6"
  }
 },
 "nbformat": 4,
 "nbformat_minor": 5
}
