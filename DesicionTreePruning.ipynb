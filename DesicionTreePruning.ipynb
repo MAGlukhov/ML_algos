{
 "cells": [
  {
   "cell_type": "markdown",
   "metadata": {
    "id": "Qw8eppkmSY7N"
   },
   "source": [
    "### Прирост информации"
   ]
  },
  {
   "cell_type": "markdown",
   "metadata": {
    "id": "JnJiVpVvnYRq"
   },
   "source": [
    "За функционал качества при работе с деревом решений принимается **прирост информации** (information gain):\n",
    "\n",
    "$$Q(X_{m}, j, t) = H(X_{m}) - \\frac{|X_{l}|}{|X_{m}|}H(X_{l}) - \\frac{|X_{r}|}{|X_{m}|}H(X_{r}),$$\n",
    "\n",
    "\n",
    "где $X_{m}$ - множество объектов, попавших в вершину на данном шаге,   \n",
    "$X_{l}$ и $X_{r}$ - множества, попадающие в левое и правое поддерево после разбиения.   \n",
    "$H(X)$ - _критерий информативности_.\n"
   ]
  },
  {
   "cell_type": "markdown",
   "metadata": {
    "id": "VkNNR7z1E3N4"
   },
   "source": [
    "\n",
    "\n",
    "В качестве **критерия информативности** для задачи классификации можно использовать:\n",
    "- _Энтропийный критерий_ или _энтропия Шеннона_ :\n",
    "\n",
    "$$H(X) = - \\sum^{K}_{k=1}p_{k}\\text{log}_{2}p_{k}.$$\n",
    "\n",
    "\n",
    "\n",
    "- _Критерий Джини_ или _индекс Джини_:\n",
    "\n",
    "$$H(X) = \\sum^{K}_{k=1}p_{k}(1-p_{k}) = 1 - \\sum_{k=1}^K{p_k^2} ,$$\n",
    "\n",
    "  где $K$ - количество классов в наборе данных $X$.\n",
    "\n",
    "\n",
    "\n",
    "\n",
    "\n"
   ]
  },
  {
   "cell_type": "markdown",
   "metadata": {
    "id": "RVHQ48IuEz8Q"
   },
   "source": [
    "# Обрезка (pruninng) деревьев решений"
   ]
  },
  {
   "cell_type": "markdown",
   "metadata": {
    "id": "_2J-XJfmGXng"
   },
   "source": [
    "- Обрезка деревьев решений нужна для того, чтобы избежать переобучения, поскольку глубокие деревья часто запоминают шумы и несущественные детали обучающей выборки. Это приводит к плохой обобщающей способности на новых данных.  \n",
    "- Удаление бесполезных ветвей упрощает модель, делает её легче для интерпретации и уменьшает вероятность переусложнения. Также обрезка делает дерево компактнее, что снижает вычислительные затраты.\n",
    "- Есть два основных метода: предварительная обрезка, когда рост дерева ограничивается заранее, и постобрезка, когда сначала строится полное дерево, а потом удаляются незначимые узлы.\n",
    "- Маленькие деревья чаще демонстрируют лучшую работу на тестовых данных, так как они сосредоточены на главных закономерностях и не обращают внимания на мелкие отклонения и шумы, характерные для обучающей выборки.  \n",
    "\n",
    " **В итоге обрезка помогает создать более простую, быструю и эффективную модель.**"
   ]
  },
  {
   "cell_type": "markdown",
   "metadata": {
    "id": "55Zl-UOqHzKK"
   },
   "source": [
    "Мы будем использовать кросс-валидацию для того, чтобы определить, как лучше обрезать дерево решений."
   ]
  },
  {
   "cell_type": "markdown",
   "metadata": {
    "id": "WD_srK8EIXUS"
   },
   "source": [
    "Кросс-валидация — это метод оценки качества модели на основе разделения данных на несколько частей, чтобы проверить её способность обобщать на новых данных. Идея заключается в том, чтобы многократно обучать модель на одной части данных (обучающей выборке) и тестировать её на другой части (валидационной выборке), чередуя такие разбиения. Это позволяет получить более надёжную оценку производительности модели, сравнивая её результаты на разных участках данных.\n",
    "\n",
    "### Как работает кросс-валидация:\n",
    "1. Исходные данные разделяются на k частей (в классическом варианте — k-fold cross-validation).\n",
    "2. На каждом шаге одна из частей используется как валидационная выборка, а оставшиеся части — как обучающая выборка.\n",
    "3. Модель обучается на обучающих данных и тестируется на валидационных, после чего фиксируется её точность.\n",
    "4. Процесс повторяется k раз, чтобы каждая часть данных побывала в роли валидационной выборки.\n",
    "5. В итоге усредняется качество модели по всем итерациям, что даёт сбалансированное представление о её обобщающей способности.\n"
   ]
  },
  {
   "cell_type": "markdown",
   "metadata": {
    "id": "c99q7TGaIW_Q"
   },
   "source": [
    "![](https://habrastorage.org/getpro/habr/post_images/e17/94b/51e/e1794b51eded0314afd9f594a8e9ee5e.png)"
   ]
  },
  {
   "cell_type": "markdown",
   "metadata": {
    "id": "advD4rSsKUmu"
   },
   "source": [
    "Этот метод позволит нам разделить исходные данные на несколько подвыборок, где на одной части данных дерево обучается, а на другой проверяется его производительность. Путём оценки качества модели на валидационных наборах мы сможем понять, какое количество обрезанных узлов или какое ограничение на глубину дерева обеспечивает наилучшую обобщающую способность. Таким образом, кросс-валидация поможет нам избежать переобучения и выбрать оптимальный баланс между сложностью дерева и его точностью на новых данных."
   ]
  },
  {
   "cell_type": "markdown",
   "metadata": {
    "id": "dvahfCuNKfwd"
   },
   "source": [
    "В дереве решений параметры управляют структурой и поведением модели. Вот описание параметров, которые вы упомянули (`max_depth`, `min_samples_split`, `min_samples_leaf`) для `DecisionTreeRegressor` (или аналогично для `DecisionTreeClassifier`):\n",
    "\n",
    "---\n",
    "\n",
    "### 1. `max_depth` (Максимальная глубина дерева):\n",
    "- Описание: это максимальное количество уровней (глубина) в дереве. Ограничивает, насколько глубоко дерево может разветвляться при построении.\n",
    "- Диапазон значений: целое число или `None`.\n",
    "  - Если установить `max_depth=None`, дерево будет расти до тех пор, пока все листья не станут чистыми (все значения одного класса или предельная ошибка) или пока количество точек в узле не станет меньше, чем параметры `min_samples_split` или `min_samples_leaf`.\n",
    "  - Небольшое `max_depth` приводит к более простому дереву (меньше свободных параметров, предотвращение переобучения), тогда как большое значение позволяет дереву больше \"запоминать\" данные.\n",
    "- Пример:\n",
    "  - если `max_depth=3`, дерево может иметь не более 3 уровней глубины.\n",
    "\n",
    "---\n",
    "\n",
    "### 2. `min_samples_split` (Минимальное число выборок для разделения узла):\n",
    "- Описание: это минимальное количество примеров в узле, которые должны быть для того, чтобы узел мог быть разделён.\n",
    "  - Если в узле меньше выборок, чем `min_samples_split`, то узел становится листом, что предотвращает его разветвление.\n",
    "- Диапазон значений: целое число (например, `2`, `5`, `10`) или доля (например, `0.1`, что означает 10% от размера обучающей выборки).\n",
    "  - Если установить долю, то параметр будет динамически зависеть от размера выборки.\n",
    "- Пример:\n",
    "  - Если `min_samples_split=10`, узел не сможет быть разделён, если в нём меньше 10 образцов, даже если происходит значительное снижение ошибки.\n",
    "- Упрощение контроля:\n",
    "  - Большее значение `min_samples_split` приводит к менее сложному дереву (меньшее количество разбиений), что уменьшает переобучение.\n",
    "  - Меньшее значение позволяет дереву лучше подстраиваться под данные (увеличивает сложность).\n",
    "\n",
    "---\n",
    "\n",
    "### 3. `min_samples_leaf` (Минимальное количество выборок в листе):\n",
    "- Описание: это минимальное количество примеров, которые должны оставаться в каждом листе дерева решений (конечном узле).\n",
    "  - Узлы, в которых окажется меньше примеров, чем этот параметр, не будут разветвляться.\n",
    "- Диапазон значений: целое число (например, `1`, `2`, `4`) или доля (например, `0.05`).\n",
    "- Пример:\n",
    "  - Если `min_samples_leaf=2`, каждый лист дерева должен содержать хотя бы 2 примера. Таким образом, дерево не будет разветвляться, если в узле недостаточно данных для формирования листа удовлетворяющего этому ограничению.\n",
    "- Особенности:\n",
    "  - Большее значение делает дерево более \"жёстким\": меньшее количество разбиений, уменьшение переобучения.\n",
    "  - Меньшее значение делает дерево более \"гибким\", но увеличивает риск переобучения.\n"
   ]
  },
  {
   "cell_type": "code",
   "execution_count": null,
   "metadata": {
    "colab": {
     "base_uri": "https://localhost:8080/"
    },
    "id": "PKQ8HRiYJDOu",
    "outputId": "4168b06d-c178-420f-8ae9-3d5eb8e9f3e5"
   },
   "outputs": [
    {
     "name": "stdout",
     "output_type": "stream",
     "text": [
      "Лучшие параметры:\n",
      "{'max_depth': 6, 'min_samples_split': 2, 'min_samples_leaf': 2}\n",
      "\n",
      "Лучшая средняя MSE на кросс-валидации: 0.6389\n"
     ]
    }
   ],
   "source": [
    "from sklearn.model_selection import cross_val_score\n",
    "import numpy as np\n",
    "# Загрузка данных California Housing\n",
    "data = fetch_california_housing()\n",
    "X = pd.DataFrame(data.data, columns=data.feature_names)  # Признаки\n",
    "y = data.target  # Целевая переменная\n",
    "\n",
    "# Определяем наборы параметров для обрезки\n",
    "max_depths = [2, 3, 4, 5, 6, None]  # Ограничение по глубине\n",
    "min_samples_splits = [2, 5, 10]  # Минимальное число выборок для разделения\n",
    "min_samples_leafs = [1, 2, 4]  # Минимальный размер листа\n",
    "\n",
    "# Перебираем гиперпараметры вручную\n",
    "best_score = float('inf')  # Для задачи регрессии используем минимум, not максимум\n",
    "best_params = {}\n",
    "\n",
    "for max_depth in max_depths:\n",
    "    for min_samples_split in min_samples_splits:\n",
    "        for min_samples_leaf in min_samples_leafs:\n",
    "            # Создаем дерево решений для регрессии с текущими параметрами\n",
    "            tree = DecisionTreeRegressor(\n",
    "                max_depth=max_depth,\n",
    "                min_samples_split=min_samples_split,\n",
    "                min_samples_leaf=min_samples_leaf,\n",
    "                random_state=42\n",
    "            )\n",
    "\n",
    "            # Проводим кросс-валидацию (5 фолдов)\n",
    "            scores = cross_val_score(tree, X, y, cv=5, scoring='neg_mean_squared_error')\n",
    "            mean_score = -np.mean(scores)  # Превращаем в MSE (точность: отрицательные значение)\n",
    "\n",
    "            # Сравниваем текущие результаты с лучшими\n",
    "            if mean_score < best_score:  # Здесь ищем минимальную ошибку\n",
    "                best_score = mean_score\n",
    "                best_params = {\n",
    "                    'max_depth': max_depth,\n",
    "                    'min_samples_split': min_samples_split,\n",
    "                    'min_samples_leaf': min_samples_leaf\n",
    "                }\n",
    "\n",
    "# Выводим результаты\n",
    "print(\"Лучшие параметры:\")\n",
    "print(best_params)\n",
    "print(\"\\nЛучшая средняя MSE на кросс-валидации: {:.4f}\".format(best_score))"
   ]
  },
  {
   "cell_type": "markdown",
   "metadata": {
    "id": "1EGFFkFwK1q-"
   },
   "source": [
    "# Подбор наиболее важных признаков"
   ]
  },
  {
   "cell_type": "markdown",
   "metadata": {
    "id": "wxwh_xIoLR5e"
   },
   "source": [
    "Деревья решений – это отличный инструмент для выбора наиболее важных признаков, потому что они сами по себе \"понимают\", какие признаки играют ключевую роль в процессе принятия решений. Когда дерево строится, оно проходит через данные и разделяет их на основе тех признаков, которые приносят наибольшую пользу для уменьшения неопределённости или ошибки. Например, если какой-то признак позволяет чётко разделить данные на группы, дерево будет использовать его чаще, и это сразу выдаёт нам его важность.\n",
    "\n",
    "Удобно, что деревья могут работать с любыми типами данных, не требуя сложной предварительной обработки вроде нормализации. Кроме того, деревья способны учитывать не только прямое, но и косвенное взаимодействие признаков, что помогает им ловить сложные зависимости между переменными. Отдельным большим плюсом является то, что деревья очень интерпретируемы: мы можем буквально посмотреть на структуру дерева и понять, какие признаки влияют на результат.\n",
    "\n",
    "Современные библиотеки, например, `scikit-learn`, делают эту задачу ещё проще. Во многих из них прямо \"зашита\" возможность вывести важность признаков – так называемую feature importance. Чем больше один признак снижает неопределённость в дереве (например, энтропию), тем выше его значимость. А если использовать ансамбли деревьев, такие как случайный лес или бустинг, то мы получим ещё более надёжную и усреднённую оценку важности, что делает отбор признаков ещё более точным.\n",
    "\n",
    "В общем, деревья решений – это не только метод для предсказаний, но и очень мощный инструмент для анализа данных и выбора ключевых признаков. Они легко показывают, что действительно влияет на модель, а что можно отбросить без особых потерь."
   ]
  },
  {
   "cell_type": "code",
   "execution_count": null,
   "metadata": {
    "colab": {
     "base_uri": "https://localhost:8080/",
     "height": 736
    },
    "id": "YyKwsJXfLwSs",
    "outputId": "5da7fc38-fb6a-4b27-c37c-5e4bbf0eed4e"
   },
   "outputs": [
    {
     "data": {
      "image/png": "[encoded data removed]",
      "text/plain": [
       "<Figure size 1000x600 with 1 Axes>"
      ]
     },
     "metadata": {},
     "output_type": "display_data"
    },
    {
     "name": "stdout",
     "output_type": "stream",
     "text": [
      "Важность признаков:\n",
      "MedInc: 0.5248\n",
      "AveOccup: 0.1316\n",
      "Latitude: 0.0945\n",
      "Longitude: 0.0846\n",
      "AveRooms: 0.0532\n",
      "HouseAge: 0.0515\n",
      "Population: 0.0333\n",
      "AveBedrms: 0.0264\n"
     ]
    }
   ],
   "source": [
    "# Создание и обучение модели DecisionTreeRegressor\n",
    "model = DecisionTreeRegressor(random_state=420)\n",
    "model.fit(X, y)\n",
    "\n",
    "# Извлечение важности признаков\n",
    "feature_importances = model.feature_importances_\n",
    "\n",
    "# Визуализация важности признаков\n",
    "plt.figure(figsize=(10, 6))\n",
    "plt.barh(X.columns, feature_importances, color='skyblue')\n",
    "plt.xlabel('Важность признака', fontsize=14)\n",
    "plt.ylabel('Признаки', fontsize=14)\n",
    "plt.title('Важность признаков (Дерево решений)', fontsize=16)\n",
    "plt.grid(axis='x', linestyle='--', alpha=0.7)\n",
    "plt.show()\n",
    "\n",
    "# Вывод отсортированного списка признаков по их важности\n",
    "sorted_features = sorted(zip(X.columns, feature_importances), key=lambda x: x[1], reverse=True)\n",
    "print(\"Важность признаков:\")\n",
    "for feature, importance in sorted_features:\n",
    "    print(f\"{feature}: {importance:.4f}\")"
   ]
  },
  {
   "cell_type": "markdown",
   "metadata": {
    "id": "dT6A_TGRMXR3"
   },
   "source": [
    "1. **Самый важный фактор:**\n",
    "   - Признак `MedInc` (медианный доход) самый значимый, его важность составляет более 45%. Это значит, что именно этот фактор сильнее всего влияет на результат модели.\n",
    "\n",
    "2. **Средне важные факторы:**\n",
    "   - `AveOccup` (средняя плотность заселения) занимает второе место по влиянию, её важность около 20%.\n",
    "   - Также важны координаты `Latitude` (широта) и `Longitude` (долгота), но их влияние меньше – примерно 10% каждое.\n",
    "\n",
    "3. **Менее важные факторы:**\n",
    "   - Признаки `AveRooms` (среднее число комнат) и `HouseAge` (возраст дома) оказывают небольшое влияние, их значимость примерно одинаковая.\n",
    "   - `Population` (численность населения) и `AveBedrms` (среднее число спален) почти не влияют на работу модели.\n",
    "\n",
    "### Выводы:\n",
    "- Основной фактор, который определяет работу модели, это медианный доход (`MedInc`).\n",
    "- Наименее важные признаки (`Population` и `AveBedrms`) можно исключить, если нужно упростить модель, но окончательное решение зависит от целей анализа.\n",
    "\n",
    "Стоит уделить больше внимания признакам с высокой значимостью, например, `MedInc` и `AveOccup`, чтобы улучшить результаты модели."
   ]
  }
 ],
 "metadata": {
  "colab": {
   "provenance": []
  },
  "kernelspec": {
   "display_name": "Python 3 (ipykernel)",
   "language": "python",
   "name": "python3"
  },
  "language_info": {
   "codemirror_mode": {
    "name": "ipython",
    "version": 3
   },
   "file_extension": ".py",
   "mimetype": "text/x-python",
   "name": "python",
   "nbconvert_exporter": "python",
   "pygments_lexer": "ipython3",
   "version": "3.12.6"
  }
 },
 "nbformat": 4,
 "nbformat_minor": 4
}
