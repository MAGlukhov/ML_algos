{
 "cells": [
  {
   "cell_type": "code",
   "execution_count": 11,
   "id": "2748306b-e191-46fe-8f76-8658f1016b40",
   "metadata": {},
   "outputs": [
    {
     "data": {
      "text/plain": [
       "array([[72, 14],\n",
       "       [77, 10],\n",
       "       [85, 10],\n",
       "       [49,  9],\n",
       "       [64,  8],\n",
       "       [ 5, 13],\n",
       "       [ 7,  6],\n",
       "       [60, 15],\n",
       "       [68,  7],\n",
       "       [45,  8],\n",
       "       [67, 14],\n",
       "       [38, 15],\n",
       "       [65,  3],\n",
       "       [66, 15],\n",
       "       [65,  9],\n",
       "       [67, 14],\n",
       "       [69,  6],\n",
       "       [43, 10],\n",
       "       [42,  7],\n",
       "       [87,  6]])"
      ]
     },
     "execution_count": 11,
     "metadata": {},
     "output_type": "execute_result"
    }
   ],
   "source": [
    "my_table = np.genfromtxt('10_years.csv', delimiter=';').astype(int)\n",
    "my_table"
   ]
  },
  {
   "cell_type": "code",
   "execution_count": 12,
   "id": "1fee3a39-d18f-48b5-9d82-eca974dacb80",
   "metadata": {},
   "outputs": [
    {
     "data": {
      "text/plain": [
       "array([0, 1, 1, 0, 1, 0, 0, 0, 1, 0, 0, 0, 1, 0, 1, 1, 0, 0, 0, 1])"
      ]
     },
     "execution_count": 12,
     "metadata": {},
     "output_type": "execute_result"
    }
   ],
   "source": [
    "my_table = np.genfromtxt('10_years_trues.csv', delimiter=';').astype(int)\n",
    "my_table"
   ]
  },
  {
   "cell_type": "code",
   "execution_count": 6,
   "id": "9793f719-aa7d-4471-b10b-2b868ce9f596",
   "metadata": {},
   "outputs": [
    {
     "data": {
      "text/plain": [
       "array([1, 0, 0, 1])"
      ]
     },
     "execution_count": 6,
     "metadata": {},
     "output_type": "execute_result"
    }
   ],
   "source": [
    "all_y_trues"
   ]
  },
  {
   "cell_type": "code",
   "execution_count": 72,
   "id": "214547de-e2a4-47f1-963a-9824b60bda77",
   "metadata": {},
   "outputs": [
    {
     "name": "stdout",
     "output_type": "stream",
     "text": [
      "Epoch 0 loss: 0.431\n",
      "Epoch 10 loss: 0.221\n",
      "Epoch 20 loss: 0.218\n",
      "Epoch 30 loss: 0.191\n",
      "Epoch 40 loss: 0.149\n",
      "Epoch 50 loss: 0.143\n",
      "Epoch 60 loss: 0.141\n",
      "Epoch 70 loss: 0.139\n",
      "Epoch 80 loss: 0.138\n",
      "Epoch 90 loss: 0.137\n"
     ]
    }
   ],
   "source": [
    "import numpy as np\n",
    "\n",
    "def sigmoid(x):\n",
    "  # Сигмоидная функция активации: f(x) = 1 / (1 + e^(-x))\n",
    "  return 1 / (1 + np.exp(-x))\n",
    "\n",
    "def deriv_sigmoid(x):\n",
    "  # Производная сигмоиды: f'(x) = f(x) * (1 - f(x))\n",
    "  fx = sigmoid(x)\n",
    "  return fx * (1 - fx)\n",
    "\n",
    "def mse_loss(y_true, y_pred):\n",
    "  # y_true и y_pred - массивы numpy одинаковой длины.\n",
    "  return ((y_true - y_pred) ** 2).mean()\n",
    "\n",
    "class OurNeuralNetwork:\n",
    "  '''\n",
    "  Нейронная сеть с:\n",
    "    - 2 входами\n",
    "    - скрытым слоем с 2 нейронами (h1, h2)\n",
    "    - выходной слой с 1 нейроном (o1)\n",
    "\n",
    "  *** DISCLAIMER ***:\n",
    "  Следующий код простой и обучающий, но НЕ оптимальный.\n",
    "  Код реальных нейронных сетей совсем на него не похож. НЕ копируйте его! \n",
    "  Изучайте и запускайте его, чтобы понять, как работает эта нейронная сеть.\n",
    "  '''\n",
    "  def __init__(self):\n",
    "    # Веса\n",
    "    self.w1 = np.random.normal()\n",
    "    self.w2 = np.random.normal()\n",
    "    self.w3 = np.random.normal()\n",
    "    self.w4 = np.random.normal()\n",
    "    self.w5 = np.random.normal()\n",
    "    self.w6 = np.random.normal()\n",
    "\n",
    "    # Пороги\n",
    "    self.b1 = np.random.normal()\n",
    "    self.b2 = np.random.normal()\n",
    "    self.b3 = np.random.normal()\n",
    "\n",
    "  def feedforward(self, x):\n",
    "    # x is a numpy array with 2 elements.\n",
    "    h1 = sigmoid(self.w1 * x[0] + self.w2 * x[1] + self.b1)\n",
    "    h2 = sigmoid(self.w3 * x[0] + self.w4 * x[1] + self.b2)\n",
    "    o1 = sigmoid(self.w5 * h1 + self.w6 * h2 + self.b3)\n",
    "    return o1\n",
    "\n",
    "  def train(self, data, all_y_trues):\n",
    "    '''\n",
    "    - data - массив numpy (n x 2) numpy, n = к-во наблюдений в наборе. \n",
    "    - all_y_trues - массив numpy с n элементами.\n",
    "      Элементы all_y_trues соответствуют наблюдениям в data.\n",
    "    '''\n",
    "    learn_rate = 0.1\n",
    "    epochs = 100 # сколько раз пройти по всему набору данных \n",
    "\n",
    "    for epoch in range(epochs):\n",
    "      for x, y_true in zip(data, all_y_trues):\n",
    "        # --- Прямой проход (эти значения нам понадобятся позже)\n",
    "        sum_h1 = self.w1 * x[0] + self.w2 * x[1] + self.b1\n",
    "        h1 = sigmoid(sum_h1)\n",
    "\n",
    "        sum_h2 = self.w3 * x[0] + self.w4 * x[1] + self.b2\n",
    "        h2 = sigmoid(sum_h2)\n",
    "\n",
    "        sum_o1 = self.w5 * h1 + self.w6 * h2 + self.b3\n",
    "        o1 = sigmoid(sum_o1)\n",
    "        y_pred = o1\n",
    "\n",
    "        # --- Считаем частные производные.\n",
    "        # --- Имена: d_L_d_w1 = \"частная производная L по w1\"\n",
    "        d_L_d_ypred = -2 * (y_true - y_pred)\n",
    "\n",
    "        # Нейрон o1\n",
    "        d_ypred_d_w5 = h1 * deriv_sigmoid(sum_o1)\n",
    "        d_ypred_d_w6 = h2 * deriv_sigmoid(sum_o1)\n",
    "        d_ypred_d_b3 = deriv_sigmoid(sum_o1)\n",
    "\n",
    "        d_ypred_d_h1 = self.w5 * deriv_sigmoid(sum_o1)\n",
    "        d_ypred_d_h2 = self.w6 * deriv_sigmoid(sum_o1)\n",
    "\n",
    "        # Нейрон h1\n",
    "        d_h1_d_w1 = x[0] * deriv_sigmoid(sum_h1)\n",
    "        d_h1_d_w2 = x[1] * deriv_sigmoid(sum_h1)\n",
    "        d_h1_d_b1 = deriv_sigmoid(sum_h1)\n",
    "\n",
    "        # Нейрон h2\n",
    "        d_h2_d_w3 = x[0] * deriv_sigmoid(sum_h2)\n",
    "        d_h2_d_w4 = x[1] * deriv_sigmoid(sum_h2)\n",
    "        d_h2_d_b2 = deriv_sigmoid(sum_h2)\n",
    "\n",
    "        # --- Обновляем веса и пороги\n",
    "        # Нейрон h1\n",
    "        self.w1 -= learn_rate * d_L_d_ypred * d_ypred_d_h1 * d_h1_d_w1\n",
    "        self.w2 -= learn_rate * d_L_d_ypred * d_ypred_d_h1 * d_h1_d_w2\n",
    "        self.b1 -= learn_rate * d_L_d_ypred * d_ypred_d_h1 * d_h1_d_b1\n",
    "\n",
    "        # Нейрон h2\n",
    "        self.w3 -= learn_rate * d_L_d_ypred * d_ypred_d_h2 * d_h2_d_w3\n",
    "        self.w4 -= learn_rate * d_L_d_ypred * d_ypred_d_h2 * d_h2_d_w4\n",
    "        self.b2 -= learn_rate * d_L_d_ypred * d_ypred_d_h2 * d_h2_d_b2\n",
    "\n",
    "        # Нейрон o1\n",
    "        self.w5 -= learn_rate * d_L_d_ypred * d_ypred_d_w5\n",
    "        self.w6 -= learn_rate * d_L_d_ypred * d_ypred_d_w6\n",
    "        self.b3 -= learn_rate * d_L_d_ypred * d_ypred_d_b3\n",
    "\n",
    "      # --- Считаем полные потери в конце каждой эпохи\n",
    "      if epoch % 10 == 0:\n",
    "        y_preds = np.apply_along_axis(self.feedforward, 1, data)\n",
    "        loss = mse_loss(all_y_trues, y_preds)\n",
    "        print(\"Epoch %d loss: %.3f\" % (epoch, loss))\n",
    "            \n",
    "\n",
    "# Определим набор данных\n",
    "data = np.genfromtxt('10_years.csv', delimiter=';').astype(int)\n",
    "\n",
    "all_y_trues = np.genfromtxt('10_years_trues.csv', delimiter=';').astype(int)\n",
    "\n",
    "# Обучаем нашу нейронную сеть!\n",
    "network = OurNeuralNetwork()\n",
    "network.train(data, all_y_trues)"
   ]
  },
  {
   "cell_type": "code",
   "execution_count": 76,
   "id": "4d4174cc-1298-4b24-812d-71fa990804f0",
   "metadata": {},
   "outputs": [
    {
     "name": "stdout",
     "output_type": "stream",
     "text": [
      "Эмили: 0.759\n"
     ]
    }
   ],
   "source": [
    "\n",
    "RVS = np.array([12, 0]) # 128 фунтов (52.35 кг), 63 дюйма (160 см)\n",
    "print(\"Эмили: %.3f\" % network.feedforward(RVS)) # 0.951 - Ж\n"
   ]
  },
  {
   "cell_type": "code",
   "execution_count": null,
   "id": "e8ff0a54-2ed2-49b7-8a6a-3911a5feae4b",
   "metadata": {},
   "outputs": [],
   "source": []
  }
 ],
 "metadata": {
  "kernelspec": {
   "display_name": "Python 3 (ipykernel)",
   "language": "python",
   "name": "python3"
  },
  "language_info": {
   "codemirror_mode": {
    "name": "ipython",
    "version": 3
   },
   "file_extension": ".py",
   "mimetype": "text/x-python",
   "name": "python",
   "nbconvert_exporter": "python",
   "pygments_lexer": "ipython3",
   "version": "3.12.6"
  }
 },
 "nbformat": 4,
 "nbformat_minor": 5
}
